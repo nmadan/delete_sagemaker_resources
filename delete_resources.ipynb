{
 "cells": [
  {
   "cell_type": "code",
   "execution_count": null,
   "id": "bc969dcc-7e21-45db-bee7-d0779d051c8e",
   "metadata": {},
   "outputs": [],
   "source": [
    "pip install boto3"
   ]
  },
  {
   "cell_type": "code",
   "execution_count": null,
   "id": "329c8794-198b-4ea2-b544-aaeafa66a3d0",
   "metadata": {},
   "outputs": [],
   "source": [
    "import boto3"
   ]
  },
  {
   "cell_type": "code",
   "execution_count": null,
   "id": "dc218ef0-b828-4e13-84f7-04466f7202a2",
   "metadata": {},
   "outputs": [],
   "source": [
    "client = boto3.client('sagemaker')\n"
   ]
  },
  {
   "cell_type": "code",
   "execution_count": null,
   "id": "e9dfb27b-4b50-4316-93b3-7d94958b5a90",
   "metadata": {},
   "outputs": [],
   "source": [
    "list_pipelines = client.list_pipelines().get('PipelineSummaries')\n",
    "pipelines = [pipeline.get('PipelineName') for pipeline in list_pipelines]"
   ]
  },
  {
   "cell_type": "code",
   "execution_count": null,
   "id": "1612412c-1bb6-4d90-83ba-8b51d418e946",
   "metadata": {},
   "outputs": [],
   "source": [
    "for pipeline in pipelines:\n",
    "    client.delete_pipeline(PipelineName=pipeline_name)\n",
    "    print(\"Deleted pipeline: \", pipeline)"
   ]
  },
  {
   "cell_type": "code",
   "execution_count": null,
   "id": "ff374e65-f654-455b-936f-e4880bbc6471",
   "metadata": {},
   "outputs": [],
   "source": [
    "list_experiments = client.list_experiments().get('ExperimentSummaries')\n",
    "experiments = [experiment.get('ExperimentName') for experiment in list_experiments]"
   ]
  },
  {
   "cell_type": "code",
   "execution_count": null,
   "id": "c5931ad8-49d0-4f8c-a9c6-ad8a6dc16f74",
   "metadata": {},
   "outputs": [],
   "source": [
    "for experiment in experiments:\n",
    "    list_trials = client.list_trials(ExperimentName=experiment)['TrialSummaries']\n",
    "    trails = [trial.get('TrialName') for trail in list_trials]\n",
    "    for trail in trails:\n",
    "        list_trial_components = client.list_trail_components(TrailName=trail)['TrialComponentSummaries']\n",
    "        for trail_component in list_trail_components:\n",
    "            trial_component_name = trail_component.get('TrialComponentName')\n",
    "            client.disassociate_trial_component(TrialComponentName=trial_component_name, TrialName=trail)\n",
    "            try:\n",
    "                client.delete_trial_component(TrialComponentName=trial_component_name)\n",
    "                print(\"Deleted trail component: \", trial_component_name)\n",
    "            except:\n",
    "                # component is associated with another trial\n",
    "                continue \n",
    "        client.delete_trail(TrialName=trail)\n",
    "        print(\"Deleted trail: \", trail)\n",
    "    client.delete_experiment(ExperimentName=experiment)\n",
    "    print(\"Deleted experiment: \", experiment)"
   ]
  }
 ],
 "metadata": {
  "kernelspec": {
   "display_name": "Python 3 (ipykernel)",
   "language": "python",
   "name": "python3"
  },
  "language_info": {
   "codemirror_mode": {
    "name": "ipython",
    "version": 3
   },
   "file_extension": ".py",
   "mimetype": "text/x-python",
   "name": "python",
   "nbconvert_exporter": "python",
   "pygments_lexer": "ipython3",
   "version": "3.9.13"
  }
 },
 "nbformat": 4,
 "nbformat_minor": 5
}
